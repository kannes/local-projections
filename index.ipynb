{
 "cells": [
  {
   "cell_type": "markdown",
   "metadata": {},
   "source": [
    "Fails uglily (:P) on things that cross the dateline or have far-away parts. no idea what's wrong with china..."
   ]
  },
  {
   "cell_type": "markdown",
   "metadata": {},
   "source": []
  },
  {
   "cell_type": "code",
   "execution_count": 1,
   "metadata": {
    "collapsed": false
   },
   "outputs": [
    {
     "data": {
      "text/html": [
       "\n",
       "<style>\n",
       "div.output_svg div {\n",
       "    width:100% !important;\n",
       "    height:100% !important;\n",
       "}\n",
       "</style>\n"
      ],
      "text/plain": [
       "<IPython.core.display.HTML object>"
      ]
     },
     "execution_count": 1,
     "metadata": {},
     "output_type": "execute_result"
    }
   ],
   "source": [
    "import fiona\n",
    "from shapely.geometry import shape, mapping, Point, GeometryCollection\n",
    "from fiona.crs import from_string\n",
    "from fiona.transform import transform_geom\n",
    "\n",
    "import ipywidgets as widgets\n",
    "from IPython.display import display,clear_output\n",
    "from shapely.geometry import *\n",
    "\n",
    "from IPython.core.display import HTML\n",
    "HTML(\"\"\"\n",
    "<style>\n",
    "div.output_svg div {\n",
    "    width: 100% !important;\n",
    "    height: 100% !important;\n",
    "}\n",
    "</style>\n",
    "\"\"\")"
   ]
  },
  {
   "cell_type": "code",
   "execution_count": 2,
   "metadata": {
    "collapsed": true
   },
   "outputs": [],
   "source": [
    "with fiona.open(\"data/ne_110m_admin_0_countries.shp\") as source:\n",
    "    features = list(source)\n",
    "    source_crs = source.crs\n",
    "\n",
    "names = sorted([f['properties']['name'] for f in features])"
   ]
  },
  {
   "cell_type": "code",
   "execution_count": 3,
   "metadata": {
    "collapsed": true
   },
   "outputs": [],
   "source": [
    "def feature_by_attribute_value(features, attribute, value):\n",
    "    # returns the FIRST matching feature\n",
    "    return [feature for feature in features if feature['properties'][attribute] == value][0]"
   ]
  },
  {
   "cell_type": "code",
   "execution_count": 10,
   "metadata": {
    "collapsed": true
   },
   "outputs": [],
   "source": [
    "def project_locally(feature):\n",
    "    geometry = shape(feature['geometry'])\n",
    "    lat_0, lon_0 = geometry.centroid.xy\n",
    "    target_crs = from_string(\"+proj=aeqd +R=6371000 +lat_0={} +lon_0={}\".format(lat_0, lon_0))\n",
    "    projected_geom = shape(transform_geom(source_crs, target_crs, mapping(geometry)))\n",
    "    projected_geom = projected_geom.buffer(0)  # buffer to fix self-intersections\n",
    "    return projected_geom"
   ]
  },
  {
   "cell_type": "code",
   "execution_count": 11,
   "metadata": {
    "collapsed": true
   },
   "outputs": [],
   "source": [
    "def explore_local_projections(name):\n",
    "    feature = feature_by_attribute_value(features, \"name\", name)\n",
    "    return project_locally(feature)"
   ]
  },
  {
   "cell_type": "code",
   "execution_count": 12,
   "metadata": {
    "collapsed": false
   },
   "outputs": [
    {
     "data": {
      "application/vnd.jupyter.widget-view+json": {
       "model_id": "181cbedc7f0d4b39b2a5be84921a4293"
      }
     },
     "metadata": {},
     "output_type": "display_data"
    }
   ],
   "source": [
    "widgets.interactive(explore_local_projections, name=names)"
   ]
  },
  {
   "cell_type": "markdown",
   "metadata": {},
   "source": [
    "## But let's make something to visually compare before and after"
   ]
  },
  {
   "cell_type": "code",
   "execution_count": 18,
   "metadata": {
    "collapsed": false
   },
   "outputs": [
    {
     "data": {
      "application/vnd.jupyter.widget-view+json": {
       "model_id": "9ff640f98bbf44be9b07ba622ecf508c"
      }
     },
     "metadata": {},
     "output_type": "display_data"
    }
   ],
   "source": [
    "def update_displays(_):\n",
    "    name = dd.value\n",
    "    feature = feature_by_attribute_value(features, \"name\", name)\n",
    "    \n",
    "    with outleft:\n",
    "        g = shape(feature['geometry'])\n",
    "        clear_output(wait=True)\n",
    "        display(g)\n",
    "        \n",
    "    with outright:\n",
    "        g = project_locally(feature)\n",
    "        clear_output(wait=True)\n",
    "        display(g)\n",
    "\n",
    "outleft=widgets.Output()\n",
    "outright=widgets.Output()\n",
    "\n",
    "dd = widgets.Dropdown(\n",
    "    options=names,\n",
    "    description='Country:',\n",
    ")\n",
    "dd.observe(update_displays)\n",
    "\n",
    "displays = widgets.HBox(children=(outleft, outright))\n",
    "dashboard = widgets.VBox(children=(dd, displays))\n",
    "\n",
    "dashboard.layout.border = '1px grey dotted'\n",
    "outleft.layout.width = \"100%\"\n",
    "outleft.layout.height = \"100%\"\n",
    "outleft.layout.border = \"1px blue solid\"\n",
    "outright.layout.width = \"100%\"\n",
    "outright.layout.height = \"100%\"\n",
    "outright.layout.border = \"1px green solid\"\n",
    "\n",
    "display(dashboard)"
   ]
  },
  {
   "cell_type": "code",
   "execution_count": null,
   "metadata": {
    "collapsed": true
   },
   "outputs": [],
   "source": []
  },
  {
   "cell_type": "code",
   "execution_count": null,
   "metadata": {
    "collapsed": false
   },
   "outputs": [],
   "source": []
  },
  {
   "cell_type": "code",
   "execution_count": null,
   "metadata": {
    "collapsed": true
   },
   "outputs": [],
   "source": []
  }
 ],
 "metadata": {
  "kernelspec": {
   "display_name": "Python 3",
   "language": "python",
   "name": "python3"
  },
  "language_info": {
   "codemirror_mode": {
    "name": "ipython",
    "version": 3
   },
   "file_extension": ".py",
   "mimetype": "text/x-python",
   "name": "python",
   "nbconvert_exporter": "python",
   "pygments_lexer": "ipython3",
   "version": "3.6.0"
  }
 },
 "nbformat": 4,
 "nbformat_minor": 2
}
